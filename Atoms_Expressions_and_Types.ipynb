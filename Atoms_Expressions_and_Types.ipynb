{
 "metadata": {
  "name": "Atoms_Expressions_and_Types"
 },
 "nbformat": 3,
 "nbformat_minor": 0,
 "worksheets": [
  {
   "cells": [
    {
     "cell_type": "markdown",
     "metadata": {},
     "source": [
      "I am using `IPython` here which is more sophisticated than default python console. If you don't have IPYython, don't worry, whatever I am doing here can be done in default Python console. On Windows, Linux or Mac console, type `python`."
     ]
    },
    {
     "cell_type": "heading",
     "level": 2,
     "metadata": {},
     "source": [
      "Atom"
     ]
    },
    {
     "cell_type": "markdown",
     "metadata": {},
     "source": [
      "Atoms are primitive expression in python such as 5, 2.2, 'banana', 1e-3, None, etc."
     ]
    },
    {
     "cell_type": "code",
     "collapsed": false,
     "input": [
      "5"
     ],
     "language": "python",
     "metadata": {},
     "outputs": [
      {
       "output_type": "pyout",
       "prompt_number": 3,
       "text": [
        "5"
       ]
      }
     ],
     "prompt_number": 3
    },
    {
     "cell_type": "code",
     "collapsed": false,
     "input": [
      "'banana'"
     ],
     "language": "python",
     "metadata": {},
     "outputs": [
      {
       "output_type": "pyout",
       "prompt_number": 5,
       "text": [
        "'banana'"
       ]
      }
     ],
     "prompt_number": 5
    },
    {
     "cell_type": "code",
     "collapsed": false,
     "input": [
      "1e-3"
     ],
     "language": "python",
     "metadata": {},
     "outputs": [
      {
       "output_type": "pyout",
       "prompt_number": 6,
       "text": [
        "0.001"
       ]
      }
     ],
     "prompt_number": 6
    },
    {
     "cell_type": "markdown",
     "metadata": {},
     "source": [
      "Each Atom has a _type_. Type and expressions are like dimension and physical qunatities. Let's check the type of previous atoms."
     ]
    },
    {
     "cell_type": "code",
     "collapsed": false,
     "input": [
      "type(5)"
     ],
     "language": "python",
     "metadata": {},
     "outputs": [
      {
       "output_type": "pyout",
       "prompt_number": 7,
       "text": [
        "int"
       ]
      }
     ],
     "prompt_number": 7
    },
    {
     "cell_type": "code",
     "collapsed": false,
     "input": [
      "type('banana')"
     ],
     "language": "python",
     "metadata": {},
     "outputs": [
      {
       "output_type": "pyout",
       "prompt_number": 9,
       "text": [
        "str"
       ]
      }
     ],
     "prompt_number": 9
    },
    {
     "cell_type": "code",
     "collapsed": false,
     "input": [
      "type(1e-3)"
     ],
     "language": "python",
     "metadata": {},
     "outputs": [
      {
       "output_type": "pyout",
       "prompt_number": 10,
       "text": [
        "float"
       ]
      }
     ],
     "prompt_number": 10
    },
    {
     "cell_type": "markdown",
     "metadata": {},
     "source": [
      "Here we got `int` (integer: ..., -3, -1, 0, 2, 5, ... etc), `str` (string), `float` (decimal). There are many others, we know them as we go along."
     ]
    },
    {
     "cell_type": "heading",
     "level": 2,
     "metadata": {},
     "source": [
      "Expressions"
     ]
    },
    {
     "cell_type": "markdown",
     "metadata": {},
     "source": [
      "Expressions are like mathematical equations: we build them using atoms and other expressions. Following are very simple expressions: calculator stuff."
     ]
    },
    {
     "cell_type": "code",
     "collapsed": false,
     "input": [
      "3 + 3.4"
     ],
     "language": "python",
     "metadata": {},
     "outputs": [
      {
       "output_type": "pyout",
       "prompt_number": 11,
       "text": [
        "6.4"
       ]
      }
     ],
     "prompt_number": 11
    },
    {
     "cell_type": "code",
     "collapsed": false,
     "input": [
      "4 + 5.0 * (2.0 ** 0.5)  # ** is power function"
     ],
     "language": "python",
     "metadata": {},
     "outputs": [
      {
       "output_type": "pyout",
       "prompt_number": 3,
       "text": [
        "11.071067811865476"
       ]
      }
     ],
     "prompt_number": 3
    },
    {
     "cell_type": "code",
     "collapsed": false,
     "input": [
      "(3 + 2) * 1.3"
     ],
     "language": "python",
     "metadata": {},
     "outputs": [
      {
       "output_type": "pyout",
       "prompt_number": 4,
       "text": [
        "6.5"
       ]
      }
     ],
     "prompt_number": 4
    },
    {
     "cell_type": "code",
     "collapsed": false,
     "input": [
      "3 + 2 * 1.3"
     ],
     "language": "python",
     "metadata": {},
     "outputs": [
      {
       "output_type": "pyout",
       "prompt_number": 6,
       "text": [
        "5.6"
       ]
      }
     ],
     "prompt_number": 6
    },
    {
     "cell_type": "markdown",
     "metadata": {},
     "source": [
      "Compare the result on 4 and 6. In the absense of parenthesis, some opertors are executed first. In the case of 6, `*` is done first before `+`. See for more details http://www.tutorialspoint.com/python/operators_precedence_example.htm .\n",
      "\n",
      "Like atoms, expressions have type. Notice that, we did not tell Python anything about the type of expressions or atoms. Python seems to infer the type by itself for us. Languages which infer the types of expressions by themselves are called _dynamically typed_ language as opposed to _statically typed_ languages where programmar has to write the type of expression by herself. "
     ]
    },
    {
     "cell_type": "heading",
     "level": 3,
     "metadata": {},
     "source": [
      "Whats there in type?"
     ]
    },
    {
     "cell_type": "markdown",
     "metadata": {},
     "source": [
      "Do animal worry about 'type' before mating? An animal of type 'tiger' can not 'breed' with another animal of type 'jackal' but it can breed with 'tiger' [which is closer to its type-family](http://en.wikipedia.org/wiki/Liger). \n",
      "\n",
      "In physics, does is make sense to add a quantity of *type* acceleration to another quantity of type speed. It doesn't though they are just decimals and can be added together. For example, adding acceleration of value 9.8 to a velocity of 3.2 is valid in any calculator though it would be illegal from the point of view of Physics. \n",
      "\n",
      "Giving expressions types saves us from writing illegal codes. Usually, programmar provide the types of expression he wants to construct and language run time system make sures that types are consistence when program runs. Unlike C/C++ and many other languages, Python does not fix the type of expression for life. It can change and Python would not complain and that can cause surprises!\n",
      "\n",
      "Do we need to worry about type if Python is inferring it for us? Yes, it always pays to be paranoid. Let's say I want to compute `3/5`. What answer do you expect from Python? Write it down first and then read further!"
     ]
    },
    {
     "cell_type": "code",
     "collapsed": false,
     "input": [
      "3/5"
     ],
     "language": "python",
     "metadata": {},
     "outputs": [
      {
       "output_type": "pyout",
       "prompt_number": 17,
       "text": [
        "0"
       ]
      }
     ],
     "prompt_number": 17
    },
    {
     "cell_type": "markdown",
     "metadata": {},
     "source": [
      "At the heart of this computation is the operator `/` which is designed to accept two numbers of same type and return the result of same type. In this computation, it takes two integer and must return result as integer. The result is computed to be `0.6` but this is a decimal (or float). Python _coerce_ it to interger (int). "
     ]
    },
    {
     "cell_type": "code",
     "collapsed": false,
     "input": [
      "int(0.6)"
     ],
     "language": "python",
     "metadata": {},
     "outputs": [
      {
       "output_type": "pyout",
       "prompt_number": 18,
       "text": [
        "0"
       ]
      }
     ],
     "prompt_number": 18
    },
    {
     "cell_type": "markdown",
     "metadata": {},
     "source": [
      "To get the 0.6 (which is a float), we have to make sure that the operator `/` gets floats at its input."
     ]
    },
    {
     "cell_type": "code",
     "collapsed": false,
     "input": [
      "3.0 / 5.0"
     ],
     "language": "python",
     "metadata": {},
     "outputs": [
      {
       "output_type": "pyout",
       "prompt_number": 19,
       "text": [
        "0.6"
       ]
      }
     ],
     "prompt_number": 19
    },
    {
     "cell_type": "code",
     "collapsed": false,
     "input": [
      "type(3.0)"
     ],
     "language": "python",
     "metadata": {},
     "outputs": [
      {
       "output_type": "pyout",
       "prompt_number": 20,
       "text": [
        "float"
       ]
      }
     ],
     "prompt_number": 20
    },
    {
     "cell_type": "code",
     "collapsed": false,
     "input": [
      "type(5.0)"
     ],
     "language": "python",
     "metadata": {},
     "outputs": [
      {
       "output_type": "pyout",
       "prompt_number": 21,
       "text": [
        "float"
       ]
      }
     ],
     "prompt_number": 21
    },
    {
     "cell_type": "code",
     "collapsed": false,
     "input": [
      "3.0 / 5"
     ],
     "language": "python",
     "metadata": {},
     "outputs": [
      {
       "output_type": "pyout",
       "prompt_number": 22,
       "text": [
        "0.6"
       ]
      }
     ],
     "prompt_number": 22
    },
    {
     "cell_type": "code",
     "collapsed": false,
     "input": [
      "3 / 5.0 "
     ],
     "language": "python",
     "metadata": {},
     "outputs": [
      {
       "output_type": "pyout",
       "prompt_number": 23,
       "text": [
        "0.6"
       ]
      }
     ],
     "prompt_number": 23
    },
    {
     "cell_type": "markdown",
     "metadata": {},
     "source": [
      "Notice on input line 22 and 23 we had only one of argument of `/` float and second one is `int`. Is giving one argument as int and other as float is OK? Well, the way Python is designed, it is OK in this case. An float can be divided by int (Lion can breed with Tiger!). When Python notice that one of the argument is float, it _coerce_ the other to float. Behind the scene, expression `3/5.0` is turned to `float(3)/5.0`. "
     ]
    },
    {
     "cell_type": "code",
     "collapsed": false,
     "input": [
      "float(3)"
     ],
     "language": "python",
     "metadata": {},
     "outputs": [
      {
       "output_type": "pyout",
       "prompt_number": 24,
       "text": [
        "3.0"
       ]
      }
     ],
     "prompt_number": 24
    },
    {
     "cell_type": "heading",
     "level": 2,
     "metadata": {},
     "source": [
      "Type errors"
     ]
    },
    {
     "cell_type": "markdown",
     "metadata": {},
     "source": [
      "Python changes the type of expression only in few cases (when it is certain that it would not cause surprises). For example, if I try the following, Python would not change the type automatically to do the computation."
     ]
    },
    {
     "cell_type": "code",
     "collapsed": false,
     "input": [
      "3.0 / '5.0'"
     ],
     "language": "python",
     "metadata": {},
     "outputs": [
      {
       "ename": "TypeError",
       "evalue": "unsupported operand type(s) for /: 'float' and 'str'",
       "output_type": "pyerr",
       "traceback": [
        "\u001b[1;31m---------------------------------------------------------------------------\u001b[0m\n\u001b[1;31mTypeError\u001b[0m                                 Traceback (most recent call last)",
        "\u001b[1;32m<ipython-input-25-52caa9cee705>\u001b[0m in \u001b[0;36m<module>\u001b[1;34m()\u001b[0m\n\u001b[1;32m----> 1\u001b[1;33m \u001b[1;36m3.0\u001b[0m \u001b[1;33m/\u001b[0m \u001b[1;34m'5.0'\u001b[0m\u001b[1;33m\u001b[0m\u001b[0m\n\u001b[0m",
        "\u001b[1;31mTypeError\u001b[0m: unsupported operand type(s) for /: 'float' and 'str'"
       ]
      }
     ],
     "prompt_number": 25
    },
    {
     "cell_type": "markdown",
     "metadata": {},
     "source": [
      "Notice that second arguemnt `'5.0'` is a str (string) and not a float. This can easily be converted to float but Python did not do it by itself and raised a _TypeError_ saying that *I don't know how to divide a float by a string.*"
     ]
    },
    {
     "cell_type": "code",
     "collapsed": false,
     "input": [
      "3.0 / float('5.0')"
     ],
     "language": "python",
     "metadata": {},
     "outputs": [
      {
       "output_type": "pyout",
       "prompt_number": 7,
       "text": [
        "0.6"
       ]
      }
     ],
     "prompt_number": 7
    },
    {
     "cell_type": "heading",
     "level": 3,
     "metadata": {},
     "source": [
      "Excercise"
     ]
    },
    {
     "cell_type": "markdown",
     "metadata": {},
     "source": [
      "1. For expression `1.5 * 3 / 5`, what answer do you expect from Python? Write it down and then type it in shell. Convince yourself that you get it. Repeat it with `1.5 * ( 3 / 5 )`. \n",
      "\n",
      "2. We have seen how to add two numbers. Does it make sense to add two strings? Try to add two string in Python. What addition means in the context of strings? What Python says if I add a string to a integer?\n",
      "\n",
      "3. Can we multiply two strings? Can we multiply a string by an int? By a float?"
     ]
    },
    {
     "cell_type": "code",
     "collapsed": false,
     "input": [],
     "language": "python",
     "metadata": {},
     "outputs": []
    }
   ],
   "metadata": {}
  }
 ]
}