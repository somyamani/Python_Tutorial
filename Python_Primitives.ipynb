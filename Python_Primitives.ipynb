{
 "metadata": {
  "name": "Python_Primitives"
 },
 "nbformat": 3,
 "nbformat_minor": 0,
 "worksheets": [
  {
   "cells": [
    {
     "cell_type": "markdown",
     "metadata": {},
     "source": [
      "Everything in Python is an _object_. An object is an instantiation of a Class. Think of yourself and of colleagues as an object of class Human. Now we should know what a `Class` is? Class has somewhat loopy defition: \"class is a template for creating object\" and \"object is an instantiation of class\". But intutively you know what a class is when you condider yourself as an object of class \"Human\". Let's see how to write class *Human* in Python."
     ]
    },
    {
     "cell_type": "code",
     "collapsed": false,
     "input": [
      "class Human():\n",
      "    \"\"\"This is a class \"\"\"\n",
      "    \n",
      "    scientificName = \"Home Sapience\"   # Shared by all Human.\n",
      "    \n",
      "    def __init__(self):\n",
      "        self.name = None  # name of the Human\n",
      "        self.age = None   # age of the Humna\n",
      "        self.gender = \"Female\"  # By default, everyone is female.\n",
      "        \n",
      "    def isMale(self):\n",
      "        if self.gender == \"Male\":\n",
      "            return True\n",
      "        else:\n",
      "            return False\n",
      "    \n",
      "dilawar = Human()\n",
      "print(\"Is dilawar a Male? %s \" % dilawar.isMale())\n",
      "dilawar.gender = \"Male\"\n",
      "print(\"Is dilawar a Male now? %s \" % dilawar.isMale())"
     ],
     "language": "python",
     "metadata": {},
     "outputs": [
      {
       "output_type": "stream",
       "stream": "stdout",
       "text": [
        "Is dilawar a Male? False \n",
        "Is dilawar a Male now? True \n"
       ]
      }
     ],
     "prompt_number": 6
    },
    {
     "cell_type": "markdown",
     "metadata": {},
     "source": [
      "This class has two _methods_: `__init__` and `isMale`, and 4 variables (in fact there are some others created by Python by default): `scientificName`, `name`, `age`, `gender`. We also have something called `self` which is a _reference to itself_. In other word, \"self.name` says `Hey, I am _name_ and I belong to this class only i.e. `self`\". \n",
      "\n",
      "Notice that `scientificName` does not have `self` yet it belongs to this class only i.e. `self`. For clarity, I could have declared under `__init__` function as `self.scientificName`. Python provides us with this syntax. If we write any variable under the scope of class, it is treated as if we have written it in `__init__` with `self.` prefixed. Effectively, We can also write the above class as following:"
     ]
    },
    {
     "cell_type": "code",
     "collapsed": false,
     "input": [
      "class Human():\n",
      "    \"\"\"This is a class \"\"\"\n",
      "    \n",
      "    scientificName = \"Home Sapience\"   # Shared by all Human.\n",
      "    name = None\n",
      "    age = None \n",
      "    gender = \"Female\"\n",
      "    \n",
      "    def __init__(self):\n",
      "        pass\n",
      "        \n",
      "    def isMale(self):\n",
      "        if self.gender == \"Male\":\n",
      "            return True\n",
      "        else:\n",
      "            return False\n",
      "        \n",
      "dilawar = Human()\n",
      "print(\"Is dilawar a Male? %s \" % dilawar.isMale())\n",
      "dilawar.gender = \"Male\"\n",
      "print(\"Is dilawar a Male now? %s \" % dilawar.isMale())"
     ],
     "language": "python",
     "metadata": {},
     "outputs": [
      {
       "output_type": "stream",
       "stream": "stdout",
       "text": [
        "Is dilawar a Male? False \n",
        "Is dilawar a Male now? True \n"
       ]
      }
     ],
     "prompt_number": 7
    },
    {
     "cell_type": "markdown",
     "metadata": {},
     "source": [
      "What about having `self` in method (or function) definition in Class? Same reason, it tells that this function belongs to this class. What happens if I remove `self` from one of the method `isMale`. Let's see"
     ]
    },
    {
     "cell_type": "code",
     "collapsed": false,
     "input": [
      "class Human():\n",
      "    \"\"\"This is a class \"\"\"\n",
      "    \n",
      "    scientificName = \"Home Sapience\"   # Shared by all Human.\n",
      "    name = None\n",
      "    age = None \n",
      "    gender = \"Female\"\n",
      "    \n",
      "    def __init__(self):\n",
      "        pass\n",
      "        \n",
      "    def isMale():   # I removed self from the argument list.\n",
      "        if self.gender == \"Male\":\n",
      "            return True\n",
      "        else:\n",
      "            return False\n",
      "        \n",
      "dilawar = Human()\n",
      "print(\"Is dilawar a Male? %s \" % dilawar.isMale())"
     ],
     "language": "python",
     "metadata": {},
     "outputs": [
      {
       "ename": "TypeError",
       "evalue": "isMale() takes no arguments (1 given)",
       "output_type": "pyerr",
       "traceback": [
        "\u001b[1;31m---------------------------------------------------------------------------\u001b[0m\n\u001b[1;31mTypeError\u001b[0m                                 Traceback (most recent call last)",
        "\u001b[1;32m<ipython-input-11-f77c767855ed>\u001b[0m in \u001b[0;36m<module>\u001b[1;34m()\u001b[0m\n\u001b[0;32m     17\u001b[0m \u001b[1;33m\u001b[0m\u001b[0m\n\u001b[0;32m     18\u001b[0m \u001b[0mdilawar\u001b[0m \u001b[1;33m=\u001b[0m \u001b[0mHuman\u001b[0m\u001b[1;33m(\u001b[0m\u001b[1;33m)\u001b[0m\u001b[1;33m\u001b[0m\u001b[0m\n\u001b[1;32m---> 19\u001b[1;33m \u001b[1;32mprint\u001b[0m\u001b[1;33m(\u001b[0m\u001b[1;34m\"Is dilawar a Male? %s \"\u001b[0m \u001b[1;33m%\u001b[0m \u001b[0mdilawar\u001b[0m\u001b[1;33m.\u001b[0m\u001b[0misMale\u001b[0m\u001b[1;33m(\u001b[0m\u001b[1;33m)\u001b[0m\u001b[1;33m)\u001b[0m\u001b[1;33m\u001b[0m\u001b[0m\n\u001b[0m",
        "\u001b[1;31mTypeError\u001b[0m: isMale() takes no arguments (1 given)"
       ]
      }
     ],
     "prompt_number": 11
    },
    {
     "cell_type": "markdown",
     "metadata": {},
     "source": [
      "And it fails with an error: `isMale() takes no arguments (1 given)`. Really? I am not passing any argument to isMale! Actually you do. When you say `dilawar.isMale()`, you *implicitly* send the reference of `dilawar` to _isMale_ function. So what if I pass a agument to method but it is not `self`. Actually its a good idea. Let's see what happens."
     ]
    },
    {
     "cell_type": "code",
     "collapsed": false,
     "input": [
      "class Human():\n",
      "    \"\"\"This is a class \"\"\"\n",
      "    \n",
      "    scientificName = \"Home Sapience\"   # Shared by all Human.\n",
      "    name = None\n",
      "    age = None \n",
      "    gender = \"Female\"\n",
      "    \n",
      "    def __init__(self):\n",
      "        pass\n",
      "        \n",
      "    def isMale(a):   # Replaced self with another argument.\n",
      "        if self.gender == \"Male\":\n",
      "            return True\n",
      "        else:\n",
      "            return False\n",
      "        \n",
      "dilawar = Human()\n",
      "print(\"Is dilawar a Male? %s \" % dilawar.isMale())"
     ],
     "language": "python",
     "metadata": {},
     "outputs": [
      {
       "ename": "NameError",
       "evalue": "global name 'self' is not defined",
       "output_type": "pyerr",
       "traceback": [
        "\u001b[1;31m---------------------------------------------------------------------------\u001b[0m\n\u001b[1;31mNameError\u001b[0m                                 Traceback (most recent call last)",
        "\u001b[1;32m<ipython-input-17-afc488c3d18a>\u001b[0m in \u001b[0;36m<module>\u001b[1;34m()\u001b[0m\n\u001b[0;32m     17\u001b[0m \u001b[1;33m\u001b[0m\u001b[0m\n\u001b[0;32m     18\u001b[0m \u001b[0mdilawar\u001b[0m \u001b[1;33m=\u001b[0m \u001b[0mHuman\u001b[0m\u001b[1;33m(\u001b[0m\u001b[1;33m)\u001b[0m\u001b[1;33m\u001b[0m\u001b[0m\n\u001b[1;32m---> 19\u001b[1;33m \u001b[1;32mprint\u001b[0m\u001b[1;33m(\u001b[0m\u001b[1;34m\"Is dilawar a Male? %s \"\u001b[0m \u001b[1;33m%\u001b[0m \u001b[0mdilawar\u001b[0m\u001b[1;33m.\u001b[0m\u001b[0misMale\u001b[0m\u001b[1;33m(\u001b[0m\u001b[1;33m)\u001b[0m\u001b[1;33m)\u001b[0m\u001b[1;33m\u001b[0m\u001b[0m\n\u001b[0m",
        "\u001b[1;32m<ipython-input-17-afc488c3d18a>\u001b[0m in \u001b[0;36misMale\u001b[1;34m(a)\u001b[0m\n\u001b[0;32m     11\u001b[0m \u001b[1;33m\u001b[0m\u001b[0m\n\u001b[0;32m     12\u001b[0m     \u001b[1;32mdef\u001b[0m \u001b[0misMale\u001b[0m\u001b[1;33m(\u001b[0m\u001b[0ma\u001b[0m\u001b[1;33m)\u001b[0m\u001b[1;33m:\u001b[0m   \u001b[1;31m# Replaced self with another argument.\u001b[0m\u001b[1;33m\u001b[0m\u001b[0m\n\u001b[1;32m---> 13\u001b[1;33m         \u001b[1;32mif\u001b[0m \u001b[0mself\u001b[0m\u001b[1;33m.\u001b[0m\u001b[0mgender\u001b[0m \u001b[1;33m==\u001b[0m \u001b[1;34m\"Male\"\u001b[0m\u001b[1;33m:\u001b[0m\u001b[1;33m\u001b[0m\u001b[0m\n\u001b[0m\u001b[0;32m     14\u001b[0m             \u001b[1;32mreturn\u001b[0m \u001b[0mTrue\u001b[0m\u001b[1;33m\u001b[0m\u001b[0m\n\u001b[0;32m     15\u001b[0m         \u001b[1;32melse\u001b[0m\u001b[1;33m:\u001b[0m\u001b[1;33m\u001b[0m\u001b[0m\n",
        "\u001b[1;31mNameError\u001b[0m: global name 'self' is not defined"
       ]
      }
     ],
     "prompt_number": 17
    },
    {
     "cell_type": "markdown",
     "metadata": {},
     "source": [
      "It seems like that now I can call this function. Inside the function, there is trouble: it can no longer access `self` and without `self` it can not access `self.gender` of object dilawar. So I replace `self` with first argument. "
     ]
    },
    {
     "cell_type": "code",
     "collapsed": false,
     "input": [
      "class Human():\n",
      "    \"\"\"This is a class \"\"\"\n",
      "    \n",
      "    scientificName = \"Home Sapience\"   # Shared by all Human.\n",
      "    name = None\n",
      "    age = None \n",
      "    gender = \"Female\"\n",
      "    \n",
      "    def __init__(self):\n",
      "        pass\n",
      "\n",
      "  \n",
      "    def isMale(a):   # Replaced self with a.\n",
      "       if a.gender == \"Male\":\n",
      "           return True\n",
      "       else:\n",
      "           return False\n",
      "        \n",
      "dilawar = Human()\n",
      "print(\"Is dilawar a Male? %s \" % dilawar.isMale())"
     ],
     "language": "python",
     "metadata": {},
     "outputs": [
      {
       "output_type": "stream",
       "stream": "stdout",
       "text": [
        "Is dilawar a Male? False \n"
       ]
      }
     ],
     "prompt_number": 18
    },
    {
     "cell_type": "markdown",
     "metadata": {},
     "source": [
      "Cool! But the common practice it to write `self`."
     ]
    },
    {
     "cell_type": "code",
     "collapsed": false,
     "input": [],
     "language": "python",
     "metadata": {},
     "outputs": []
    }
   ],
   "metadata": {}
  }
 ]
}