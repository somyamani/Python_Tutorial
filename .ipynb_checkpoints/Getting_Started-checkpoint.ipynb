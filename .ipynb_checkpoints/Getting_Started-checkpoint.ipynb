{
 "metadata": {
  "name": ""
 },
 "nbformat": 3,
 "nbformat_minor": 0,
 "worksheets": [
  {
   "cells": [
    {
     "cell_type": "heading",
     "level": 3,
     "metadata": {},
     "source": [
      "Which programming language?"
     ]
    },
    {
     "cell_type": "markdown",
     "metadata": {},
     "source": [
      "One can think about programming languages in many ways. It is so easy to get lost in details.\n",
      "\n",
      "Some languages are designed to honour a mathematical abstraction, while some are designed to shine in a particular application. Between these two extreme positions, lies most of general purpose languages. Python and perls are such languages.\n",
      "\n",
      "C remains close to hardware, it provides fine-grain control over hardware. C s the argubaly the fastest programming language. C/C++ rules on embedded systems, simulators, and other high-performance systems.\n",
      "\n",
      "Python, Perl and Java are higher level languages i.e. the programmar sweats less than C/C++ programmar. A great many details which C/C++ programmers must know are taken care by these languages behind the scene. The cost is significant reduction in speed. Slower still are Matlab/Scilab and Octave.\n",
      "\n",
      "The rule of thumb is if it is easier to program in  a language, it is slower. Or in other words, if you don't sweat is out, your computer has to sweat it out for you. But who cares if computer sweat?"
     ]
    },
    {
     "cell_type": "heading",
     "level": 3,
     "metadata": {},
     "source": [
      "Why Python?"
     ]
    },
    {
     "cell_type": "markdown",
     "metadata": {},
     "source": [
      "Python is approximately 10-50 times slower than C++ and somewhat faster than Matlab. On recursive algorithms, it performs much better than Matlab. Unlike Matlab, it is open-source and free.\n",
      "\n",
      "A recent addition in Python is cython which turns Python code to equivalent C code. This often does magic to a slow programs. You get speed of C and convenience of Python.\n",
      "\n",
      "The attraction of Python is not speed but the ease of programming. Its syntax is cleaner and takes less effort to master. One writes less to do same amount of work, given its standard library has so many useful functions. There are millions of programs written in Python waiting to be used. Python can be used for almost any purpose easily.\n",
      "\n",
      "Python makes you get started quickly and there are so many people willing to help you. All it takes few hours of work to get started with basics of language. One can then start working at the problem at hand."
     ]
    }
   ],
   "metadata": {}
  }
 ]
}