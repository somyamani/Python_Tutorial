{
 "metadata": {
  "name": "Getting_Started"
 },
 "nbformat": 3,
 "nbformat_minor": 0,
 "worksheets": [
  {
   "cells": [
    {
     "cell_type": "heading",
     "level": 3,
     "metadata": {},
     "source": [
      "Which programming language?"
     ]
    },
    {
     "cell_type": "markdown",
     "metadata": {},
     "source": [
      "One can think about programming languages in [many ways](http://en.wikipedia.org/wiki/Programming_paradigm). It is so easy to get lost in details.\n",
      "\n",
      "Some languages are designed to honour a mathematical abstraction; many others are designed to shine in a particular situation. Between these two extreme positions, lies most of general purpose languages. Python and Perl are such languages.\n",
      "\n",
      "C is extremely close to hardware on which it runs, and provides fine-grain control over it. C s the argubaly the fastest programming language. C rules on embedded systems, simulators, and other high-performance systems. C++ is a humongous language: some part of it close to hardware like C while others can provide very high level of abstraction. C++ is most suitble for large systems where performance and security is a key issue.\n",
      "\n",
      "Like C++, Python, Perl and Java are higher level languages i.e. the programmar sweats less than C/C++ programmar but unlike C++, you don't have as much control as you would like to have for performance. A great many details which C/C++ programmers must know are taken care by these languages behind the scene. The cost is significant reduction in speed. Slower still are Matlab/Scilab and Octave.\n",
      "\n",
      "The rule of thumb is if it is easier to program in  a language, it is slower. Or in other words, if you don't sweat is out, your computer has to sweat it out for you. But computer does not complain (usually)!"
     ]
    },
    {
     "cell_type": "heading",
     "level": 3,
     "metadata": {},
     "source": [
      "Why Python?"
     ]
    },
    {
     "cell_type": "markdown",
     "metadata": {},
     "source": [
      "Python is approximately 10-50 times slower than C++ and somewhat faster than Matlab. On recursive algorithms, it performs much better than Matlab. Unlike Matlab, it is open-source and free.\n",
      "\n",
      "A recent addition in Python is cython which turns Python code to equivalent C code. This often does magic to a slow programs. You get speed of C and convenience of Python. By default, many times Python drops into C to behind the scene to improve performance. \n",
      "\n",
      "The attraction of Python is not speed but the ease of programming. Its syntax is cleaner and takes less effort to master. One writes less to do same amount of work, given its standard library has so many useful functions. There are millions of programs written in Python waiting to be used. Python can be used for almost any purpose easily.\n",
      "\n",
      "Python makes you get started quickly. All it takes few hours of work to get started with basics of language. One can then start working at the problem at hand."
     ]
    },
    {
     "cell_type": "markdown",
     "metadata": {},
     "source": [
      "Let's get started. First, we'll have a look at [Python primitives](Python_Primitives.ipynb)."
     ]
    }
   ],
   "metadata": {}
  }
 ]
}